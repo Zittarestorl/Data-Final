{
 "cells": [
  {
   "cell_type": "markdown",
   "metadata": {},
   "source": [
    "sequential search"
   ]
  },
  {
   "cell_type": "code",
   "execution_count": 3,
   "metadata": {},
   "outputs": [
    {
     "name": "stdout",
     "output_type": "stream",
     "text": [
      "1\n"
     ]
    }
   ],
   "source": [
    "def sequential_search(L,key):\n",
    "    for k in range(len(L)):\n",
    "        if key == L[k]:\n",
    "            return k\n",
    "    return -1\n",
    "\n",
    "L = [2, 5, 7 ,10 ,14]\n",
    "key = int(input(\"Enter a number: \"))\n",
    "print(sequential_search(L, key))"
   ]
  },
  {
   "cell_type": "markdown",
   "metadata": {},
   "source": [
    "binary search"
   ]
  },
  {
   "cell_type": "code",
   "execution_count": 7,
   "metadata": {},
   "outputs": [
    {
     "name": "stdout",
     "output_type": "stream",
     "text": [
      "0\n"
     ]
    }
   ],
   "source": [
    "def binary_search(L,i,j,key):\n",
    "    while i <= j:\n",
    "        k = (i+j) // 2\n",
    "        if key == L[k]:\n",
    "            return k\n",
    "        if key < L[k]:\n",
    "            j = k-1\n",
    "        else:\n",
    "            i = k+1\n",
    "    return -1\n",
    "\n",
    "L = [1,2,4,6,8,10]\n",
    "i = 0\n",
    "j = len(L) - 1\n",
    "key = int(input(\"Enter a number: \"))\n",
    "\n",
    "print(binary_search(L,i,j,key))"
   ]
  },
  {
   "cell_type": "markdown",
   "metadata": {},
   "source": [
    "bfs tree"
   ]
  },
  {
   "cell_type": "code",
   "execution_count": 40,
   "metadata": {},
   "outputs": [
    {
     "name": "stdout",
     "output_type": "stream",
     "text": [
      "[]\n"
     ]
    }
   ],
   "source": [
    "class TreeNode:\n",
    "    def __init__(self,key):\n",
    "        self.left = None\n",
    "        self.right = None\n",
    "        self.val = key\n",
    "\n",
    "def bfs_traversal(root):\n",
    "    if root is None:\n",
    "        return []\n",
    "    \n",
    "    queue = []\n",
    "    queue.append(root)\n",
    "    traversal_order = []\n",
    "\n",
    "    while queue:\n",
    "        node = queue.pop(0)\n",
    "        traversal_order.append(node.val)\n",
    "\n",
    "        if node.left:\n",
    "            queue.append(node.left)\n",
    "        if node.right:\n",
    "            queue.append(node.right)\n",
    "    return traversal_order\n",
    "\n",
    "root = None\n",
    "\n",
    "print(bfs_traversal(root))"
   ]
  },
  {
   "cell_type": "markdown",
   "metadata": {},
   "source": [
    "bfs adjancet list"
   ]
  },
  {
   "cell_type": "code",
   "execution_count": 23,
   "metadata": {},
   "outputs": [
    {
     "name": "stdout",
     "output_type": "stream",
     "text": [
      "[1, 2]\n"
     ]
    }
   ],
   "source": [
    "def bfs(graph,start):\n",
    "    visited = [False]*(len(graph)+1)\n",
    "    queue = []\n",
    "    traversal_order = []\n",
    "\n",
    "    queue.append(start)\n",
    "    visited[start] = True\n",
    "\n",
    "    while queue:\n",
    "        vertex = queue.pop(0)\n",
    "        traversal_order.append(vertex)\n",
    "\n",
    "        for neighbor in graph[vertex]:\n",
    "            if not visited[neighbor]:\n",
    "                queue.append(neighbor)\n",
    "                visited[neighbor] = True\n",
    "\n",
    "    return traversal_order\n",
    "\n",
    "graph = {\n",
    "    1: [2],\n",
    "    2: [1]\n",
    "}\n",
    "\n",
    "start_vertext = 1\n",
    "\n",
    "print(bfs(graph,start_vertext))"
   ]
  },
  {
   "cell_type": "markdown",
   "metadata": {},
   "source": [
    "bfs shortest path adjacent list"
   ]
  },
  {
   "cell_type": "code",
   "execution_count": 55,
   "metadata": {},
   "outputs": [
    {
     "name": "stdout",
     "output_type": "stream",
     "text": [
      "1:0\n",
      "2:1\n"
     ]
    }
   ],
   "source": [
    "def bfs_shortestpath(graph,start):\n",
    "    distance = {}\n",
    "    visited = [False]*(len(graph)+1)\n",
    "    queue = []\n",
    "\n",
    "    queue.append(start)\n",
    "    visited[start] = True\n",
    "    distance[start] = 0\n",
    "\n",
    "    while queue:\n",
    "        vertext = queue.pop(0)\n",
    "        \n",
    "\n",
    "        for neighbor in graph[vertext]:\n",
    "            if not visited[neighbor]:\n",
    "                queue.append(neighbor)\n",
    "                visited[neighbor] = True\n",
    "                distance[neighbor] = distance[vertext]+1\n",
    "    return distance\n",
    "\n",
    "graph = {\n",
    "    1: [2],\n",
    "    2: [1]\n",
    "}\n",
    "\n",
    "started_vertext = 1\n",
    "\n",
    "distances = bfs_shortestpath(graph,started_vertext)\n",
    "\n",
    "for vertext,distance in distances.items():\n",
    "    print(f\"{vertext}:{distance}\")"
   ]
  },
  {
   "cell_type": "markdown",
   "metadata": {},
   "source": [
    "dfs tree"
   ]
  },
  {
   "cell_type": "code",
   "execution_count": 64,
   "metadata": {},
   "outputs": [
    {
     "name": "stdout",
     "output_type": "stream",
     "text": [
      "[1, 3, 2, 5, 4]\n"
     ]
    }
   ],
   "source": [
    "class TreeNode:\n",
    "    def __init__(self,key):\n",
    "        self.left = None\n",
    "        self.right = None\n",
    "        self.val = key\n",
    "\n",
    "def dfs_traversal(root):\n",
    "    if root is None:\n",
    "        return[]\n",
    "    \n",
    "    stack = []\n",
    "    traversal_order = []\n",
    "    stack.append(root)\n",
    "\n",
    "    while stack:\n",
    "        node = stack.pop()\n",
    "        traversal_order.append(node.val)\n",
    "\n",
    "        if node.left:\n",
    "            stack.append(node.left)\n",
    "        if node.right:\n",
    "            stack.append(node.right)\n",
    "\n",
    "    return traversal_order\n",
    "\n",
    "root = TreeNode(1)\n",
    "root.left = TreeNode(2)\n",
    "root.right = TreeNode(3)\n",
    "root.left.left = TreeNode(4)\n",
    "root.left.right = TreeNode(5)\n",
    "\n",
    "print(dfs_traversal(root))"
   ]
  },
  {
   "cell_type": "markdown",
   "metadata": {},
   "source": [
    "dfs adjacent list"
   ]
  },
  {
   "cell_type": "code",
   "execution_count": 4,
   "metadata": {},
   "outputs": [
    {
     "name": "stdout",
     "output_type": "stream",
     "text": [
      "[1, 2]\n"
     ]
    }
   ],
   "source": [
    "def dfs(graph,start):\n",
    "    visited = [False]*(len(graph)+1)\n",
    "    stack = []\n",
    "    traversal_order = []\n",
    "\n",
    "    stack.append(start)\n",
    "    visited[start] = True\n",
    "\n",
    "    while stack:\n",
    "        vertext = stack.pop()\n",
    "        traversal_order.append(vertext)\n",
    "\n",
    "        for neighbors in graph[vertext]:\n",
    "            if not visited[neighbors]:\n",
    "               stack.append(neighbors)\n",
    "               visited[neighbors] = True\n",
    "    return traversal_order\n",
    "\n",
    "graph = {\n",
    "    1: [2],\n",
    "    2: [1]\n",
    "}\n",
    "\n",
    "start_vertext = 1\n",
    "\n",
    "print(dfs(graph,start_vertext))"
   ]
  },
  {
   "cell_type": "code",
   "execution_count": 65,
   "metadata": {},
   "outputs": [
    {
     "name": "stdout",
     "output_type": "stream",
     "text": [
      "!maxe\n"
     ]
    }
   ],
   "source": [
    "def reverse(s):\n",
    "    return s[::-1]\n",
    "\n",
    "a = (\"exam!\")\n",
    "\n",
    "print(reverse(a))"
   ]
  },
  {
   "cell_type": "code",
   "execution_count": 71,
   "metadata": {},
   "outputs": [
    {
     "name": "stdout",
     "output_type": "stream",
     "text": [
      "!maxe\n"
     ]
    }
   ],
   "source": [
    "def reverse_recursive(s):\n",
    "    if len(s) == 0:\n",
    "        return s\n",
    "    else:\n",
    "        return reverse_recursive(s[1:]) + s[0]\n",
    "\n",
    "a = (\"exam!\")\n",
    "\n",
    "print(reverse_recursive(a))"
   ]
  },
  {
   "cell_type": "code",
   "execution_count": null,
   "metadata": {},
   "outputs": [],
   "source": [
    "def fibonacci(s):\n",
    "    if s == 0:\n",
    "        return 0\n",
    "    if s == 1:\n",
    "        return 1\n",
    "    return fibonacci(s-1) + fibonacci(s-2)"
   ]
  },
  {
   "cell_type": "code",
   "execution_count": 77,
   "metadata": {},
   "outputs": [],
   "source": [
    "def fibonacci(s):\n",
    "    if s ==0:\n",
    "        return 0\n",
    "    if s ==1:\n",
    "        return 1\n",
    "    return fibonacci(s-1) +fibonacci(s-2)"
   ]
  },
  {
   "cell_type": "code",
   "execution_count": null,
   "metadata": {},
   "outputs": [],
   "source": [
    "import heapq\n",
    "\n",
    "def dijkstra(g, start, end):\n",
    "    # Assume g is an adjacency list\n",
    "\n",
    "    # Initialize the distance array\n",
    "    distance = [float('inf')] * len(g)\n",
    "    distance[start] = 0\n",
    "\n",
    "    # Initialize the priority queue\n",
    "    pq = [(0, start)]\n",
    "    heapq.heapify(pq)\n",
    "\n",
    "    while pq:\n",
    "        # Pop the vertex with the smallest distance\n",
    "        d, u = heapq.heappop(pq)\n",
    "\n",
    "        # If the distance is larger than the current distance, skip \n",
    "        # because it has already been processed before with a smaller distance\n",
    "        if d > distance[u]:\n",
    "            continue\n",
    "\n",
    "        # If the vertex is the end vertex, return the distance\n",
    "        if u == end:\n",
    "            return d\n",
    "\n",
    "        # For each neighbor of the vertex\n",
    "        for v, w in g[u]:\n",
    "            # Relax the edge\n",
    "            if distance[u] + w < distance[v]:\n",
    "                # if the new distance is smaller, update the distance\n",
    "                distance[v] = distance[u] + w\n",
    "                heapq.heappush(pq, (distance[v], v))"
   ]
  },
  {
   "cell_type": "code",
   "execution_count": null,
   "metadata": {},
   "outputs": [],
   "source": [
    "def merge_sort(arr):\n",
    "    if len(arr) <= 1:\n",
    "        return arr\n",
    "\n",
    "    mid = len(arr) // 2\n",
    "    left_half = arr[:mid]\n",
    "    right_half = arr[mid:]\n",
    "\n",
    "    merge_sort(left_half)\n",
    "    merge_sort(right_half)\n",
    "    \n",
    "    return merge(left_half, right_half)"
   ]
  }
 ],
 "metadata": {
  "kernelspec": {
   "display_name": "base",
   "language": "python",
   "name": "python3"
  },
  "language_info": {
   "codemirror_mode": {
    "name": "ipython",
    "version": 3
   },
   "file_extension": ".py",
   "mimetype": "text/x-python",
   "name": "python",
   "nbconvert_exporter": "python",
   "pygments_lexer": "ipython3",
   "version": "3.11.5"
  }
 },
 "nbformat": 4,
 "nbformat_minor": 2
}
